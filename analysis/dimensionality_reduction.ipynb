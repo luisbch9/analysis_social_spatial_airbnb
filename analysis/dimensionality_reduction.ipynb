{
 "cells": [
  {
   "cell_type": "code",
   "execution_count": 1,
   "metadata": {},
   "outputs": [],
   "source": [
    "import pandas as pd \n",
    "import numpy as np\n",
    "from sklearn.decomposition import PCA\n",
    "from sklearn.decomposition import IncrementalPCA\n",
    "from sklearn.decomposition import KernelPCA\n",
    "from sklearn.decomposition import SparsePCA\n",
    "from sklearn.manifold import MDS\n",
    "from sklearn.manifold import Isomap\n",
    "from sklearn.manifold import TSNE\n",
    "from sklearn.decomposition import TruncatedSVD\n",
    "from sklearn.random_projection import GaussianRandomProjection\n",
    "from sklearn.decomposition import FastICA\n",
    "from sklearn.decomposition import MiniBatchDictionaryLearning\n",
    "from sklearn.random_projection import SparseRandomProjection\n",
    "from sklearn import preprocessing\n",
    "from utils_analysis import normalize_dataframe"
   ]
  },
  {
   "cell_type": "code",
   "execution_count": 2,
   "metadata": {},
   "outputs": [],
   "source": [
    "caracteristicas_df = pd.read_csv('caracteristicas.csv')\n"
   ]
  },
  {
   "cell_type": "code",
   "execution_count": 3,
   "metadata": {},
   "outputs": [],
   "source": [
    "# def df_pca(df, n_comp = 2):\n",
    "#     caracteristicas_df = normalize_dataframe(df)\n",
    "#     pca = PCA(n_components=n_comp)\n",
    "#     pca.fit(caracteristicas_df)\n",
    "#     caracteristicas_pca = pca.transform(caracteristicas_df)\n",
    "#     caracteristicas_pca_df = pd.DataFrame(caracteristicas_pca)\n",
    "#     return caracteristicas_pca_df\n",
    "\n",
    "\n",
    "def df_svd(df, n_comp = 2, max_iter = 10):\n",
    "    rd_df = normalize_dataframe(df)\n",
    "    rd = TruncatedSVD(n_components=n_comp,algorithm='randomized', random_state=2019, n_iter=max_iter)\n",
    "    rd.fit(caracteristicas_df)\n",
    "    caracteristicas_rd = rd.transform(rd_df)\n",
    "    caracteristicas_rd_df = pd.DataFrame(caracteristicas_rd)\n",
    "    return caracteristicas_rd_df\n",
    "\n",
    "\n",
    "def df_pca(df, n_comp = 2):\n",
    "    rd_df = normalize_dataframe(df)\n",
    "    rd = PCA(n_components=n_comp)\n",
    "    rd.fit(caracteristicas_df)\n",
    "    caracteristicas_rd = rd.transform(rd_df)\n",
    "    caracteristicas_rd_df = pd.DataFrame(caracteristicas_rd)\n",
    "    return caracteristicas_rd_df\n",
    "\n",
    "def df_isomap(df, n_comp = 2, n_jobs = 1, n_neighbors = 5, max_iter = 1000):\n",
    "    rd_df = normalize_dataframe(df)\n",
    "    rd = Isomap(n_components=n_comp, n_neighbors = n_neighbors, max_iter = max_iter, )\n",
    "    rd.fit(caracteristicas_df)\n",
    "    caracteristicas_rd = rd.transform(rd_df)\n",
    "    caracteristicas_rd_df = pd.DataFrame(caracteristicas_rd)\n",
    "    return caracteristicas_rd_df\n",
    "\n",
    "    \n",
    "def df_mds(df, n_comp = 2, n_jobs = 1, max_iter = 1000):\n",
    "    rd_df = normalize_dataframe(df)\n",
    "    rd =  MDS(n_components=n_comp, max_iter=max_iter, metric=True, n_jobs=n_jobs, random_state=2019)\n",
    "#     rd.fit(caracteristicas_df[:1000])\n",
    "    caracteristicas_rd = rd.fit_transform(caracteristicas_df)\n",
    "    caracteristicas_rd_df = pd.DataFrame(caracteristicas_rd)\n",
    "    return caracteristicas_rd_df"
   ]
  },
  {
   "cell_type": "code",
   "execution_count": 4,
   "metadata": {},
   "outputs": [],
   "source": [
    "# df_rd = df_mds(caracteristicas_df, n_comp=3, n_jobs=1, max_iter=1)\n",
    "# df_rd = df_isomap(caracteristicas_df, n_comp=3, n_jobs=1, max_iter=10)\n",
    "# df_rd = df_pca(caracteristicas_df)\n",
    "df_rd = df_svd(caracteristicas_df, max_iter=100)"
   ]
  },
  {
   "cell_type": "code",
   "execution_count": 5,
   "metadata": {},
   "outputs": [
    {
     "name": "stdout",
     "output_type": "stream",
     "text": [
      "0    0.000011\n",
      "1    0.000423\n",
      "dtype: float64\n",
      "0    1.001686\n",
      "1    1.747023\n",
      "dtype: float64\n"
     ]
    },
    {
     "data": {
      "text/html": [
       "<div>\n",
       "<style scoped>\n",
       "    .dataframe tbody tr th:only-of-type {\n",
       "        vertical-align: middle;\n",
       "    }\n",
       "\n",
       "    .dataframe tbody tr th {\n",
       "        vertical-align: top;\n",
       "    }\n",
       "\n",
       "    .dataframe thead th {\n",
       "        text-align: right;\n",
       "    }\n",
       "</style>\n",
       "<table border=\"1\" class=\"dataframe\">\n",
       "  <thead>\n",
       "    <tr style=\"text-align: right;\">\n",
       "      <th></th>\n",
       "      <th>0</th>\n",
       "      <th>1</th>\n",
       "    </tr>\n",
       "  </thead>\n",
       "  <tbody>\n",
       "    <tr>\n",
       "      <th>0</th>\n",
       "      <td>0.000011</td>\n",
       "      <td>0.001008</td>\n",
       "    </tr>\n",
       "    <tr>\n",
       "      <th>1</th>\n",
       "      <td>0.000077</td>\n",
       "      <td>0.001199</td>\n",
       "    </tr>\n",
       "    <tr>\n",
       "      <th>2</th>\n",
       "      <td>0.000135</td>\n",
       "      <td>0.001140</td>\n",
       "    </tr>\n",
       "    <tr>\n",
       "      <th>3</th>\n",
       "      <td>0.000209</td>\n",
       "      <td>0.001256</td>\n",
       "    </tr>\n",
       "    <tr>\n",
       "      <th>4</th>\n",
       "      <td>0.000231</td>\n",
       "      <td>0.002668</td>\n",
       "    </tr>\n",
       "  </tbody>\n",
       "</table>\n",
       "</div>"
      ],
      "text/plain": [
       "          0         1\n",
       "0  0.000011  0.001008\n",
       "1  0.000077  0.001199\n",
       "2  0.000135  0.001140\n",
       "3  0.000209  0.001256\n",
       "4  0.000231  0.002668"
      ]
     },
     "execution_count": 5,
     "metadata": {},
     "output_type": "execute_result"
    }
   ],
   "source": [
    "print(df_rd.min())\n",
    "print(df_rd.max())\n",
    "df_rd.head(5)"
   ]
  },
  {
   "cell_type": "code",
   "execution_count": null,
   "metadata": {},
   "outputs": [],
   "source": []
  },
  {
   "cell_type": "code",
   "execution_count": null,
   "metadata": {},
   "outputs": [],
   "source": []
  },
  {
   "cell_type": "code",
   "execution_count": null,
   "metadata": {},
   "outputs": [],
   "source": []
  },
  {
   "cell_type": "code",
   "execution_count": null,
   "metadata": {},
   "outputs": [],
   "source": []
  }
 ],
 "metadata": {
  "kernelspec": {
   "display_name": "Python 3",
   "language": "python",
   "name": "python3"
  },
  "language_info": {
   "codemirror_mode": {
    "name": "ipython",
    "version": 3
   },
   "file_extension": ".py",
   "mimetype": "text/x-python",
   "name": "python",
   "nbconvert_exporter": "python",
   "pygments_lexer": "ipython3",
   "version": "3.6.8"
  }
 },
 "nbformat": 4,
 "nbformat_minor": 2
}
